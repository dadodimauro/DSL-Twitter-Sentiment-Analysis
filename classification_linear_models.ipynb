{
 "cells": [
  {
   "cell_type": "code",
   "execution_count": 13,
   "id": "630304de",
   "metadata": {},
   "outputs": [],
   "source": [
    "import numpy as np\n",
    "import pandas as pd"
   ]
  },
  {
   "cell_type": "code",
   "execution_count": 14,
   "id": "171b5770",
   "metadata": {
    "scrolled": true
   },
   "outputs": [],
   "source": [
    "df = pd.read_csv(\"./clean_df.csv\", usecols=[\"text\", \"sentiment\"])\n",
    "#df = pd.read_csv(\"./raw_df.csv\", usecols=[\"text\", \"sentiment\"])"
   ]
  },
  {
   "cell_type": "code",
   "execution_count": 15,
   "id": "885c4c56",
   "metadata": {},
   "outputs": [],
   "source": [
    "train_valid_mask = ~df[\"sentiment\"].isna()"
   ]
  },
  {
   "cell_type": "code",
   "execution_count": 16,
   "id": "bea3088e",
   "metadata": {},
   "outputs": [],
   "source": [
    "from sklearn.model_selection import train_test_split\n",
    "\n",
    "X = df[\"text\"].values\n",
    "y = df[\"sentiment\"].values\n",
    "\n",
    "X_train_valid = X[train_valid_mask]\n",
    "y_train_valid = y[train_valid_mask]\n",
    "X_test = X[~train_valid_mask]\n",
    "y_test = y[~train_valid_mask]\n",
    "\n",
    "X_train, X_valid, y_train, y_valid = train_test_split(X_train_valid, y_train_valid, shuffle=True, random_state=42)"
   ]
  },
  {
   "cell_type": "code",
   "execution_count": 28,
   "id": "eb6734a1",
   "metadata": {},
   "outputs": [],
   "source": [
    "\"\"\"from sklearn.feature_extraction.text import TfidfVectorizer\n",
    "\n",
    "max_features = 500000\n",
    "#vectoriser = TfidfVectorizer(ngram_range=(1,2), stop_words=\"english\", max_features=max_features)\n",
    "vectoriser = TfidfVectorizer(ngram_range=(1,3), max_features=max_features)\n",
    "vectoriser.fit(X_train)\n",
    "X_train = vectoriser.transform(X_train)\n",
    "X_valid  = vectoriser.transform(X_valid)\"\"\""
   ]
  },
  {
   "cell_type": "code",
   "execution_count": 17,
   "id": "549491ad",
   "metadata": {},
   "outputs": [],
   "source": [
    "from sklearn.feature_extraction.text import TfidfVectorizer\n",
    "\n",
    "max_features = 500000\n",
    "#vectoriser = TfidfVectorizer(ngram_range=(1,3), stop_words=\"english\", max_features=max_features)\n",
    "vectoriser = TfidfVectorizer(ngram_range=(1,3), max_features=max_features)\n",
    "vectoriser.fit(X_train_valid)\n",
    "X_train_valid = vectoriser.transform(X_train_valid)\n",
    "X_test  = vectoriser.transform(X_test)"
   ]
  },
  {
   "cell_type": "code",
   "execution_count": 18,
   "id": "5a2b8148",
   "metadata": {},
   "outputs": [],
   "source": [
    "from sklearn.metrics import classification_report\n",
    "from sklearn.metrics import f1_score"
   ]
  },
  {
   "cell_type": "code",
   "execution_count": 39,
   "id": "a1b05125",
   "metadata": {
    "scrolled": false
   },
   "outputs": [
    {
     "data": {
      "text/plain": "\"from sklearn.linear_model import LogisticRegression\\n\\nLRmodel = LogisticRegression(C = 2, max_iter = 500, solver='liblinear', n_jobs=-1, random_state=42)\\nLRmodel.fit(X_train, y_train)\\ny_pred = LRmodel.predict(X_valid)\\n\\nprint(classification_report(y_valid, y_pred))\\nprint(f1_score(y_valid, y_pred, average='macro'))\""
     },
     "execution_count": 39,
     "metadata": {},
     "output_type": "execute_result"
    }
   ],
   "source": [
    "\"\"\"from sklearn.linear_model import LogisticRegression\n",
    "\n",
    "LRmodel = LogisticRegression(C = 2, max_iter = 500, solver='liblinear', n_jobs=-1, random_state=42)\n",
    "LRmodel.fit(X_train, y_train)\n",
    "y_pred = LRmodel.predict(X_valid)\n",
    "\n",
    "print(classification_report(y_valid, y_pred))\n",
    "print(f1_score(y_valid, y_pred, average='macro'))\"\"\""
   ]
  },
  {
   "cell_type": "code",
   "execution_count": 40,
   "id": "a181a401",
   "metadata": {},
   "outputs": [
    {
     "data": {
      "text/plain": "\"from sklearn.svm import LinearSVC\\n\\nSVCmodel = LinearSVC(random_state=42)\\nSVCmodel.fit(X_train, y_train)\\ny_pred = SVCmodel.predict(X_valid)\\n\\nprint(classification_report(y_valid, y_pred))\\nprint(f1_score(y_valid, y_pred, average='macro'))\""
     },
     "execution_count": 40,
     "metadata": {},
     "output_type": "execute_result"
    }
   ],
   "source": [
    "\"\"\"from sklearn.svm import LinearSVC\n",
    "\n",
    "SVCmodel = LinearSVC(random_state=42)\n",
    "SVCmodel.fit(X_train, y_train)\n",
    "y_pred = SVCmodel.predict(X_valid)\n",
    "\n",
    "print(classification_report(y_valid, y_pred))\n",
    "print(f1_score(y_valid, y_pred, average='macro'))\"\"\""
   ]
  },
  {
   "cell_type": "code",
   "execution_count": 41,
   "id": "66a52d15",
   "metadata": {},
   "outputs": [
    {
     "data": {
      "text/plain": "'from sklearn.ensemble import RandomForestClassifier\\n\\nclf = RandomForestClassifier(100, random_state=42, criterion=\"entropy\", max_features=\"log2\", n_jobs=-1)\\nclf.fit(X_train, np.array(y_train))\\ny_pred = clf.predict(X_valid)\\n\\nprint(classification_report(y_valid, y_pred))\\nprint(f1_score(y_valid, y_pred, average=\\'macro\\'))'"
     },
     "execution_count": 41,
     "metadata": {},
     "output_type": "execute_result"
    }
   ],
   "source": [
    "\"\"\"from sklearn.ensemble import RandomForestClassifier\n",
    "\n",
    "clf = RandomForestClassifier(100, random_state=42, criterion=\"entropy\", max_features=\"log2\", n_jobs=-1)\n",
    "clf.fit(X_train, np.array(y_train))\n",
    "y_pred = clf.predict(X_valid)\n",
    "\n",
    "print(classification_report(y_valid, y_pred))\n",
    "print(f1_score(y_valid, y_pred, average='macro'))\"\"\""
   ]
  },
  {
   "cell_type": "code",
   "execution_count": 19,
   "id": "9d2858f4",
   "metadata": {},
   "outputs": [],
   "source": [
    "from sklearn.model_selection import GridSearchCV\n",
    "\n",
    "lr_param_grid = {\n",
    "    \"C\" : [1, 2],\n",
    "    \"solver\" : [\"lbfgs\", \"liblinear\"],\n",
    "    \"max_iter\" : [100, 500, 1000, 5000],\n",
    "    \"random_state\" : [42],\n",
    "    \"n_jobs\" : [-1]\n",
    "}\n",
    "\n",
    "svc_param_grid = {\n",
    "    \"C\" : [1, 2],\n",
    "    \"max_iter\" : [100, 500, 1000, 5000],\n",
    "    \"random_state\" : [42]\n",
    "}"
   ]
  },
  {
   "cell_type": "code",
   "execution_count": 20,
   "id": "e85562d6",
   "metadata": {},
   "outputs": [
    {
     "data": {
      "text/plain": "0.7740306040157504"
     },
     "execution_count": 20,
     "metadata": {},
     "output_type": "execute_result"
    }
   ],
   "source": [
    "from sklearn.linear_model import LogisticRegression\n",
    "\n",
    "lr_gs = GridSearchCV(LogisticRegression(), lr_param_grid, scoring=\"f1_macro\", n_jobs=-1, cv=5)\n",
    "\n",
    "lr_gs.fit(X_train_valid, y_train_valid)\n",
    "lr_gs.best_score_"
   ]
  },
  {
   "cell_type": "code",
   "execution_count": 21,
   "id": "46be3917",
   "metadata": {},
   "outputs": [],
   "source": [
    "y_pred_lr = lr_gs.predict(X_test)\n",
    "pd.DataFrame(y_pred_lr).to_csv(\"output_lr.csv\", index_label=\"Id\", header=[\"Predicted\"])\n",
    "#pd.DataFrame(y_pred_lr).to_csv(\"output_lr_stopwords.csv\", index_label=\"Id\", header=[\"Predicted\"])"
   ]
  },
  {
   "cell_type": "code",
   "execution_count": 22,
   "id": "da0a7bf1",
   "metadata": {},
   "outputs": [
    {
     "data": {
      "text/plain": "0.768949545810272"
     },
     "execution_count": 22,
     "metadata": {},
     "output_type": "execute_result"
    }
   ],
   "source": [
    "from sklearn.svm import LinearSVC\n",
    "\n",
    "svc_gs = GridSearchCV(LinearSVC(), svc_param_grid, scoring=\"f1_macro\", n_jobs=-1, cv=5)\n",
    "\n",
    "svc_gs.fit(X_train_valid, y_train_valid)\n",
    "svc_gs.best_score_"
   ]
  },
  {
   "cell_type": "code",
   "execution_count": 23,
   "id": "d00968b9",
   "metadata": {},
   "outputs": [],
   "source": [
    "y_pred_svc = svc_gs.predict(X_test)\n",
    "pd.DataFrame(y_pred_svc).to_csv(\"output_svc.csv\", index_label=\"Id\", header=[\"Predicted\"])"
   ]
  },
  {
   "cell_type": "code",
   "execution_count": 47,
   "id": "f5d86c8f",
   "metadata": {},
   "outputs": [
    {
     "data": {
      "text/plain": "LogisticRegression(C=2, n_jobs=-1, random_state=42, solver='liblinear')"
     },
     "execution_count": 47,
     "metadata": {},
     "output_type": "execute_result"
    }
   ],
   "source": [
    "lr_gs.best_estimator_"
   ]
  },
  {
   "cell_type": "code",
   "execution_count": 48,
   "id": "7a6fa05c",
   "metadata": {
    "scrolled": true
   },
   "outputs": [
    {
     "data": {
      "text/plain": "LinearSVC(C=1, max_iter=100, random_state=42)"
     },
     "execution_count": 48,
     "metadata": {},
     "output_type": "execute_result"
    }
   ],
   "source": [
    "svc_gs.best_estimator_"
   ]
  },
  {
   "cell_type": "code",
   "execution_count": 24,
   "id": "c758f205",
   "metadata": {},
   "outputs": [],
   "source": [
    "lr_df = pd.concat([pd.DataFrame(lr_gs.cv_results_[\"params\"]),pd.DataFrame(lr_gs.cv_results_[\"mean_test_score\"], columns=[\"f1_macro\"])],axis=1)"
   ]
  },
  {
   "cell_type": "code",
   "execution_count": 50,
   "id": "d9acf114",
   "metadata": {
    "scrolled": true
   },
   "outputs": [
    {
     "data": {
      "text/plain": "    C  max_iter  n_jobs  random_state     solver  f1_macro\n0   1       100      -1            42      lbfgs  0.795671\n1   1       100      -1            42  liblinear  0.795733\n2   1       500      -1            42      lbfgs  0.795751\n3   1       500      -1            42  liblinear  0.795733\n4   1      1000      -1            42      lbfgs  0.795751\n5   1      1000      -1            42  liblinear  0.795733\n6   1      5000      -1            42      lbfgs  0.795751\n7   1      5000      -1            42  liblinear  0.795733\n8   2       100      -1            42      lbfgs  0.800260\n9   2       100      -1            42  liblinear  0.800507\n10  2       500      -1            42      lbfgs  0.800488\n11  2       500      -1            42  liblinear  0.800507\n12  2      1000      -1            42      lbfgs  0.800488\n13  2      1000      -1            42  liblinear  0.800507\n14  2      5000      -1            42      lbfgs  0.800488\n15  2      5000      -1            42  liblinear  0.800507",
      "text/html": "<div>\n<style scoped>\n    .dataframe tbody tr th:only-of-type {\n        vertical-align: middle;\n    }\n\n    .dataframe tbody tr th {\n        vertical-align: top;\n    }\n\n    .dataframe thead th {\n        text-align: right;\n    }\n</style>\n<table border=\"1\" class=\"dataframe\">\n  <thead>\n    <tr style=\"text-align: right;\">\n      <th></th>\n      <th>C</th>\n      <th>max_iter</th>\n      <th>n_jobs</th>\n      <th>random_state</th>\n      <th>solver</th>\n      <th>f1_macro</th>\n    </tr>\n  </thead>\n  <tbody>\n    <tr>\n      <th>0</th>\n      <td>1</td>\n      <td>100</td>\n      <td>-1</td>\n      <td>42</td>\n      <td>lbfgs</td>\n      <td>0.795671</td>\n    </tr>\n    <tr>\n      <th>1</th>\n      <td>1</td>\n      <td>100</td>\n      <td>-1</td>\n      <td>42</td>\n      <td>liblinear</td>\n      <td>0.795733</td>\n    </tr>\n    <tr>\n      <th>2</th>\n      <td>1</td>\n      <td>500</td>\n      <td>-1</td>\n      <td>42</td>\n      <td>lbfgs</td>\n      <td>0.795751</td>\n    </tr>\n    <tr>\n      <th>3</th>\n      <td>1</td>\n      <td>500</td>\n      <td>-1</td>\n      <td>42</td>\n      <td>liblinear</td>\n      <td>0.795733</td>\n    </tr>\n    <tr>\n      <th>4</th>\n      <td>1</td>\n      <td>1000</td>\n      <td>-1</td>\n      <td>42</td>\n      <td>lbfgs</td>\n      <td>0.795751</td>\n    </tr>\n    <tr>\n      <th>5</th>\n      <td>1</td>\n      <td>1000</td>\n      <td>-1</td>\n      <td>42</td>\n      <td>liblinear</td>\n      <td>0.795733</td>\n    </tr>\n    <tr>\n      <th>6</th>\n      <td>1</td>\n      <td>5000</td>\n      <td>-1</td>\n      <td>42</td>\n      <td>lbfgs</td>\n      <td>0.795751</td>\n    </tr>\n    <tr>\n      <th>7</th>\n      <td>1</td>\n      <td>5000</td>\n      <td>-1</td>\n      <td>42</td>\n      <td>liblinear</td>\n      <td>0.795733</td>\n    </tr>\n    <tr>\n      <th>8</th>\n      <td>2</td>\n      <td>100</td>\n      <td>-1</td>\n      <td>42</td>\n      <td>lbfgs</td>\n      <td>0.800260</td>\n    </tr>\n    <tr>\n      <th>9</th>\n      <td>2</td>\n      <td>100</td>\n      <td>-1</td>\n      <td>42</td>\n      <td>liblinear</td>\n      <td>0.800507</td>\n    </tr>\n    <tr>\n      <th>10</th>\n      <td>2</td>\n      <td>500</td>\n      <td>-1</td>\n      <td>42</td>\n      <td>lbfgs</td>\n      <td>0.800488</td>\n    </tr>\n    <tr>\n      <th>11</th>\n      <td>2</td>\n      <td>500</td>\n      <td>-1</td>\n      <td>42</td>\n      <td>liblinear</td>\n      <td>0.800507</td>\n    </tr>\n    <tr>\n      <th>12</th>\n      <td>2</td>\n      <td>1000</td>\n      <td>-1</td>\n      <td>42</td>\n      <td>lbfgs</td>\n      <td>0.800488</td>\n    </tr>\n    <tr>\n      <th>13</th>\n      <td>2</td>\n      <td>1000</td>\n      <td>-1</td>\n      <td>42</td>\n      <td>liblinear</td>\n      <td>0.800507</td>\n    </tr>\n    <tr>\n      <th>14</th>\n      <td>2</td>\n      <td>5000</td>\n      <td>-1</td>\n      <td>42</td>\n      <td>lbfgs</td>\n      <td>0.800488</td>\n    </tr>\n    <tr>\n      <th>15</th>\n      <td>2</td>\n      <td>5000</td>\n      <td>-1</td>\n      <td>42</td>\n      <td>liblinear</td>\n      <td>0.800507</td>\n    </tr>\n  </tbody>\n</table>\n</div>"
     },
     "execution_count": 50,
     "metadata": {},
     "output_type": "execute_result"
    }
   ],
   "source": [
    "lr_df"
   ]
  },
  {
   "cell_type": "code",
   "execution_count": 25,
   "id": "822e74bb",
   "metadata": {},
   "outputs": [],
   "source": [
    "svc_df = pd.concat([pd.DataFrame(svc_gs.cv_results_[\"params\"]),pd.DataFrame(svc_gs.cv_results_[\"mean_test_score\"], columns=[\"f1_macro\"])],axis=1)"
   ]
  },
  {
   "cell_type": "code",
   "execution_count": 52,
   "id": "32352500",
   "metadata": {
    "scrolled": true
   },
   "outputs": [
    {
     "data": {
      "text/plain": "   C  max_iter  random_state  f1_macro\n0  1       100            42  0.795516\n1  1       500            42  0.795516\n2  1      1000            42  0.795516\n3  1      5000            42  0.795516\n4  2       100            42  0.788191\n5  2       500            42  0.788191\n6  2      1000            42  0.788191\n7  2      5000            42  0.788191",
      "text/html": "<div>\n<style scoped>\n    .dataframe tbody tr th:only-of-type {\n        vertical-align: middle;\n    }\n\n    .dataframe tbody tr th {\n        vertical-align: top;\n    }\n\n    .dataframe thead th {\n        text-align: right;\n    }\n</style>\n<table border=\"1\" class=\"dataframe\">\n  <thead>\n    <tr style=\"text-align: right;\">\n      <th></th>\n      <th>C</th>\n      <th>max_iter</th>\n      <th>random_state</th>\n      <th>f1_macro</th>\n    </tr>\n  </thead>\n  <tbody>\n    <tr>\n      <th>0</th>\n      <td>1</td>\n      <td>100</td>\n      <td>42</td>\n      <td>0.795516</td>\n    </tr>\n    <tr>\n      <th>1</th>\n      <td>1</td>\n      <td>500</td>\n      <td>42</td>\n      <td>0.795516</td>\n    </tr>\n    <tr>\n      <th>2</th>\n      <td>1</td>\n      <td>1000</td>\n      <td>42</td>\n      <td>0.795516</td>\n    </tr>\n    <tr>\n      <th>3</th>\n      <td>1</td>\n      <td>5000</td>\n      <td>42</td>\n      <td>0.795516</td>\n    </tr>\n    <tr>\n      <th>4</th>\n      <td>2</td>\n      <td>100</td>\n      <td>42</td>\n      <td>0.788191</td>\n    </tr>\n    <tr>\n      <th>5</th>\n      <td>2</td>\n      <td>500</td>\n      <td>42</td>\n      <td>0.788191</td>\n    </tr>\n    <tr>\n      <th>6</th>\n      <td>2</td>\n      <td>1000</td>\n      <td>42</td>\n      <td>0.788191</td>\n    </tr>\n    <tr>\n      <th>7</th>\n      <td>2</td>\n      <td>5000</td>\n      <td>42</td>\n      <td>0.788191</td>\n    </tr>\n  </tbody>\n</table>\n</div>"
     },
     "execution_count": 52,
     "metadata": {},
     "output_type": "execute_result"
    }
   ],
   "source": [
    "svc_df"
   ]
  },
  {
   "cell_type": "code",
   "execution_count": 26,
   "id": "788cbbcb",
   "metadata": {},
   "outputs": [],
   "source": [
    "pd.DataFrame(svc_df).to_csv(\"grid_svc_stopwords.csv\", index_label=\"Id\", header=[\"C\", \"max_iter\", \"random_state\", \"f1_macro\"])"
   ]
  },
  {
   "cell_type": "code",
   "execution_count": 27,
   "id": "3aadb3ae",
   "metadata": {},
   "outputs": [],
   "source": [
    "pd.DataFrame(lr_df).to_csv(\"grid_lr_stopwords.csv\", index_label=\"Id\", header=[\"C\", \"max_iter\", \"n_jobs\", \"random_state\", \"solver\", \"f1_macro\"])"
   ]
  },
  {
   "cell_type": "code",
   "execution_count": 55,
   "id": "cb5fe61d",
   "metadata": {},
   "outputs": [],
   "source": [
    "from sklearn.linear_model import LogisticRegression\n",
    "from sklearn.svm import LinearSVC"
   ]
  },
  {
   "cell_type": "code",
   "execution_count": 30,
   "id": "d977d021",
   "metadata": {},
   "outputs": [],
   "source": [
    "f1_score_dict = dict()\n",
    "\n",
    "for max_features in [100, 500, 1000, 5000, 10000, 50000, 100000, 500000]:\n",
    "    X = df[\"text\"].values\n",
    "    y = df[\"sentiment\"].values\n",
    "\n",
    "    X_train_valid = X[train_valid_mask]\n",
    "    y_train_valid = y[train_valid_mask]\n",
    "    X_test = X[~train_valid_mask]\n",
    "    y_test = y[~train_valid_mask]\n",
    "    \n",
    "    X_train, X_valid, y_train, y_valid = train_test_split(X_train_valid, y_train_valid, shuffle=True, random_state=42)\n",
    "\n",
    "    vectoriser = TfidfVectorizer(ngram_range=(1,3), max_features=max_features)\n",
    "    #vectoriser = TfidfVectorizer(ngram_range=(1,3), max_features=max_features, stop_words=\"english\")\n",
    "    vectoriser.fit(X_train)\n",
    "    X_train = vectoriser.transform(X_train)\n",
    "    X_valid  = vectoriser.transform(X_valid)\n",
    "    \n",
    "    SVCmodel = LinearSVC(C=1, max_iter=100, random_state=42)\n",
    "    SVCmodel.fit(X_train, y_train)\n",
    "    y_pred = SVCmodel.predict(X_valid)\n",
    "    f1_svc = f1_score(y_valid, y_pred, average='macro')\n",
    "    \n",
    "    LRmodel = LogisticRegression(C=2, n_jobs=-1, random_state=42)\n",
    "    LRmodel.fit(X_train, y_train)\n",
    "    y_pred = LRmodel.predict(X_valid)\n",
    "    f1_lr = f1_score(y_valid, y_pred, average='macro')\n",
    "    \n",
    "    f1_score_dict[max_features] = [f1_lr, f1_svc]    "
   ]
  },
  {
   "cell_type": "code",
   "execution_count": 31,
   "id": "feb1d68b",
   "metadata": {
    "scrolled": false
   },
   "outputs": [],
   "source": [
    "pd.DataFrame.from_dict(f1_score_dict, orient='index', columns=[\"LogisticRegressor\", \"LinearSVC\"]).to_csv(\"f1_res.csv\")\n",
    "#pd.DataFrame.from_dict(f1_score_dict, orient='index', columns=[\"LogisticRegressor\", \"LinearSVC\"]).to_csv(\"f1_res_raw.csv\")\n",
    "#pd.DataFrame.from_dict(f1_score_dict, orient='index', columns=[\"LogisticRegressor\", \"LinearSVC\"]).to_csv(\"f1_res_stopwords.csv\")"
   ]
  },
  {
   "cell_type": "code",
   "execution_count": 58,
   "outputs": [],
   "source": [
    "ngram_compare_list = list()\n",
    "max_features = 500000\n",
    "ngram_list = [(1,1), (1,2), (1,3)]\n",
    "\n",
    "for ngram in ngram_list:\n",
    "    f1_score_dict = dict()\n",
    "\n",
    "    for max_features in [100, 500, 1000, 5000, 10000, 50000, 100000, 500000]:\n",
    "        X = df[\"text\"].values\n",
    "        y = df[\"sentiment\"].values\n",
    "\n",
    "        X_train_valid = X[train_valid_mask]\n",
    "        y_train_valid = y[train_valid_mask]\n",
    "        X_test = X[~train_valid_mask]\n",
    "        y_test = y[~train_valid_mask]\n",
    "\n",
    "        X_train, X_valid, y_train, y_valid = train_test_split(X_train_valid, y_train_valid, shuffle=True, random_state=42)\n",
    "\n",
    "        vectoriser = TfidfVectorizer(ngram_range=ngram, max_features=max_features)\n",
    "        vectoriser.fit(X_train)\n",
    "        X_train = vectoriser.transform(X_train)\n",
    "        X_valid  = vectoriser.transform(X_valid)\n",
    "\n",
    "        SVCmodel = LinearSVC(C=1, max_iter=100, random_state=42)\n",
    "        SVCmodel.fit(X_train, y_train)\n",
    "        y_pred = SVCmodel.predict(X_valid)\n",
    "        f1_svc = f1_score(y_valid, y_pred, average='macro')\n",
    "\n",
    "        LRmodel = LogisticRegression(C=2, n_jobs=-1, random_state=42)\n",
    "        LRmodel.fit(X_train, y_train)\n",
    "        y_pred = LRmodel.predict(X_valid)\n",
    "        f1_lr = f1_score(y_valid, y_pred, average='macro')\n",
    "\n",
    "        f1_score_dict[max_features] = [f1_lr, f1_svc]\n",
    "\n",
    "    ngram_compare_list.append(f1_score_dict)"
   ],
   "metadata": {
    "collapsed": false,
    "pycharm": {
     "name": "#%%\n"
    }
   }
  },
  {
   "cell_type": "code",
   "execution_count": 59,
   "outputs": [],
   "source": [
    "i = 0\n",
    "for elem in ngram_compare_list:\n",
    "    pd.DataFrame.from_dict(ngram_compare_list[i], orient='index', columns=[\"LogisticRegressor\", \"LinearSVC\"]).to_csv(f\"ngram_compare_{i}.csv\")\n",
    "    i = i + 1"
   ],
   "metadata": {
    "collapsed": false,
    "pycharm": {
     "name": "#%%\n"
    }
   }
  },
  {
   "cell_type": "code",
   "execution_count": 10,
   "outputs": [
    {
     "name": "stdout",
     "output_type": "stream",
     "text": [
      "Fitting 5 folds for each of 4 candidates, totalling 20 fits\n"
     ]
    },
    {
     "data": {
      "text/plain": "0.5377209932230912"
     },
     "execution_count": 10,
     "metadata": {},
     "output_type": "execute_result"
    }
   ],
   "source": [
    "from sklearn.neighbors import KNeighborsClassifier\n",
    "\n",
    "knc_param_grid = {\n",
    "    \"n_neighbors\" : [5, 10],\n",
    "    \"weights\" : [\"uniform\", \"distance\"]\n",
    "}\n",
    "\n",
    "knc_gs = GridSearchCV(KNeighborsClassifier(), knc_param_grid, scoring=\"f1_macro\", n_jobs=4, cv=5, verbose=5)\n",
    "\n",
    "knc_gs.fit(X_train_valid, y_train_valid)\n",
    "knc_gs.best_score_"
   ],
   "metadata": {
    "collapsed": false,
    "pycharm": {
     "name": "#%%\n"
    }
   }
  },
  {
   "cell_type": "code",
   "execution_count": 11,
   "outputs": [],
   "source": [
    "knc_df = pd.concat([pd.DataFrame(knc_gs.cv_results_[\"params\"]),pd.DataFrame(knc_gs.cv_results_[\"mean_test_score\"], columns=[\"f1_macro\"])],axis=1)"
   ],
   "metadata": {
    "collapsed": false,
    "pycharm": {
     "name": "#%%\n"
    }
   }
  },
  {
   "cell_type": "code",
   "execution_count": 12,
   "outputs": [],
   "source": [
    "pd.DataFrame(knc_df).to_csv(\"grid_knc.csv\", index_label=\"Id\", header=[\"n_neighbors\", \"weights\", \"f1_macro\"])"
   ],
   "metadata": {
    "collapsed": false,
    "pycharm": {
     "name": "#%%\n"
    }
   }
  }
 ],
 "metadata": {
  "kernelspec": {
   "display_name": "Python 3 (ipykernel)",
   "language": "python",
   "name": "python3"
  },
  "language_info": {
   "codemirror_mode": {
    "name": "ipython",
    "version": 3
   },
   "file_extension": ".py",
   "mimetype": "text/x-python",
   "name": "python",
   "nbconvert_exporter": "python",
   "pygments_lexer": "ipython3",
   "version": "3.8.10"
  }
 },
 "nbformat": 4,
 "nbformat_minor": 5
}