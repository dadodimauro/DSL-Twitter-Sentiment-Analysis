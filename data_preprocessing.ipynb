{
 "cells": [
  {
   "cell_type": "code",
   "execution_count": 1,
   "id": "f88f2a37",
   "metadata": {},
   "outputs": [],
   "source": [
    "import numpy as np\n",
    "import pandas as pd"
   ]
  },
  {
   "cell_type": "code",
   "execution_count": 2,
   "id": "d9b394dd",
   "metadata": {},
   "outputs": [],
   "source": [
    "df1 = pd.read_csv(\"DSL2122_january_dataset\\development.csv\", usecols=[\"ids\", \"date\", \"user\", \"text\", \"sentiment\"])\n",
    "df2 = pd.read_csv(\"DSL2122_january_dataset\\evaluation.csv\", usecols=[\"ids\", \"date\", \"user\", \"text\"])"
   ]
  },
  {
   "cell_type": "code",
   "execution_count": 3,
   "id": "782c4bd4",
   "metadata": {},
   "outputs": [
    {
     "data": {
      "text/plain": "   sentiment         ids                          date            user  \\\n0          1  1833972543  Mon May 18 01:08:27 PDT 2009       Killandra   \n1          1  1980318193  Sun May 31 06:23:17 PDT 2009     IMlisacowan   \n2          1  1994409198  Mon Jun 01 11:52:54 PDT 2009       yaseminx3   \n3          0  1824749377  Sun May 17 02:45:34 PDT 2009    no_surprises   \n4          0  2001199113  Tue Jun 02 00:08:07 PDT 2009  Rhi_ShortStack   \n\n                                                text  \n0  @MissBianca76 Yes, talking helps a lot.. going...  \n1  SUNSHINE. livingg itttt. imma lie on the grass...  \n2           @PleaseBeMine Something for your iphone   \n3  @GabrielSaporta couldn't get in to the after p...  \n4  @bradiewebbstack awww is andy being mean again...  ",
      "text/html": "<div>\n<style scoped>\n    .dataframe tbody tr th:only-of-type {\n        vertical-align: middle;\n    }\n\n    .dataframe tbody tr th {\n        vertical-align: top;\n    }\n\n    .dataframe thead th {\n        text-align: right;\n    }\n</style>\n<table border=\"1\" class=\"dataframe\">\n  <thead>\n    <tr style=\"text-align: right;\">\n      <th></th>\n      <th>sentiment</th>\n      <th>ids</th>\n      <th>date</th>\n      <th>user</th>\n      <th>text</th>\n    </tr>\n  </thead>\n  <tbody>\n    <tr>\n      <th>0</th>\n      <td>1</td>\n      <td>1833972543</td>\n      <td>Mon May 18 01:08:27 PDT 2009</td>\n      <td>Killandra</td>\n      <td>@MissBianca76 Yes, talking helps a lot.. going...</td>\n    </tr>\n    <tr>\n      <th>1</th>\n      <td>1</td>\n      <td>1980318193</td>\n      <td>Sun May 31 06:23:17 PDT 2009</td>\n      <td>IMlisacowan</td>\n      <td>SUNSHINE. livingg itttt. imma lie on the grass...</td>\n    </tr>\n    <tr>\n      <th>2</th>\n      <td>1</td>\n      <td>1994409198</td>\n      <td>Mon Jun 01 11:52:54 PDT 2009</td>\n      <td>yaseminx3</td>\n      <td>@PleaseBeMine Something for your iphone</td>\n    </tr>\n    <tr>\n      <th>3</th>\n      <td>0</td>\n      <td>1824749377</td>\n      <td>Sun May 17 02:45:34 PDT 2009</td>\n      <td>no_surprises</td>\n      <td>@GabrielSaporta couldn't get in to the after p...</td>\n    </tr>\n    <tr>\n      <th>4</th>\n      <td>0</td>\n      <td>2001199113</td>\n      <td>Tue Jun 02 00:08:07 PDT 2009</td>\n      <td>Rhi_ShortStack</td>\n      <td>@bradiewebbstack awww is andy being mean again...</td>\n    </tr>\n  </tbody>\n</table>\n</div>"
     },
     "execution_count": 3,
     "metadata": {},
     "output_type": "execute_result"
    }
   ],
   "source": [
    "df1.head()"
   ]
  },
  {
   "cell_type": "code",
   "execution_count": 4,
   "id": "5ebf8134",
   "metadata": {
    "scrolled": true
   },
   "outputs": [
    {
     "data": {
      "text/plain": "          ids                          date             user  \\\n0  1999928613  Mon Jun 01 21:04:54 PDT 2009  urbanperspectiv   \n1  1827919331  Sun May 17 11:43:09 PDT 2009    therealsecret   \n2  1563640134  Sun Apr 19 23:37:52 PDT 2009       bitchville   \n3  2189786396  Tue Jun 16 00:54:27 PDT 2009        epi_longo   \n4  1974034022  Sat May 30 12:18:33 PDT 2009      Curiosafmmb   \n\n                                                text  \n0  @engteacher I'm pretty much the same ...in eit...  \n1      @JaxLicurse same here  have a gr8 week ahead   \n2     @blacksweater  that's just nightmares all over  \n3  @dlead @jishanvn cháº¯c pháº£i Äi thi Äáº¡i ...  \n4        @CA_Sweetie awe. ok sweetie. ttyl.   *hugs*  ",
      "text/html": "<div>\n<style scoped>\n    .dataframe tbody tr th:only-of-type {\n        vertical-align: middle;\n    }\n\n    .dataframe tbody tr th {\n        vertical-align: top;\n    }\n\n    .dataframe thead th {\n        text-align: right;\n    }\n</style>\n<table border=\"1\" class=\"dataframe\">\n  <thead>\n    <tr style=\"text-align: right;\">\n      <th></th>\n      <th>ids</th>\n      <th>date</th>\n      <th>user</th>\n      <th>text</th>\n    </tr>\n  </thead>\n  <tbody>\n    <tr>\n      <th>0</th>\n      <td>1999928613</td>\n      <td>Mon Jun 01 21:04:54 PDT 2009</td>\n      <td>urbanperspectiv</td>\n      <td>@engteacher I'm pretty much the same ...in eit...</td>\n    </tr>\n    <tr>\n      <th>1</th>\n      <td>1827919331</td>\n      <td>Sun May 17 11:43:09 PDT 2009</td>\n      <td>therealsecret</td>\n      <td>@JaxLicurse same here  have a gr8 week ahead</td>\n    </tr>\n    <tr>\n      <th>2</th>\n      <td>1563640134</td>\n      <td>Sun Apr 19 23:37:52 PDT 2009</td>\n      <td>bitchville</td>\n      <td>@blacksweater  that's just nightmares all over</td>\n    </tr>\n    <tr>\n      <th>3</th>\n      <td>2189786396</td>\n      <td>Tue Jun 16 00:54:27 PDT 2009</td>\n      <td>epi_longo</td>\n      <td>@dlead @jishanvn cháº¯c pháº£i Äi thi Äáº¡i ...</td>\n    </tr>\n    <tr>\n      <th>4</th>\n      <td>1974034022</td>\n      <td>Sat May 30 12:18:33 PDT 2009</td>\n      <td>Curiosafmmb</td>\n      <td>@CA_Sweetie awe. ok sweetie. ttyl.   *hugs*</td>\n    </tr>\n  </tbody>\n</table>\n</div>"
     },
     "execution_count": 4,
     "metadata": {},
     "output_type": "execute_result"
    }
   ],
   "source": [
    "df2.head()"
   ]
  },
  {
   "cell_type": "code",
   "execution_count": 5,
   "id": "cc83826d",
   "metadata": {},
   "outputs": [
    {
     "name": "stdout",
     "output_type": "stream",
     "text": [
      "<class 'pandas.core.frame.DataFrame'>\n",
      "RangeIndex: 224994 entries, 0 to 224993\n",
      "Data columns (total 5 columns):\n",
      " #   Column     Non-Null Count   Dtype \n",
      "---  ------     --------------   ----- \n",
      " 0   sentiment  224994 non-null  int64 \n",
      " 1   ids        224994 non-null  int64 \n",
      " 2   date       224994 non-null  object\n",
      " 3   user       224994 non-null  object\n",
      " 4   text       224994 non-null  object\n",
      "dtypes: int64(2), object(3)\n",
      "memory usage: 8.6+ MB\n"
     ]
    }
   ],
   "source": [
    "df1.info()"
   ]
  },
  {
   "cell_type": "code",
   "execution_count": 6,
   "id": "7e0ae95a",
   "metadata": {
    "scrolled": true
   },
   "outputs": [
    {
     "name": "stdout",
     "output_type": "stream",
     "text": [
      "<class 'pandas.core.frame.DataFrame'>\n",
      "RangeIndex: 74999 entries, 0 to 74998\n",
      "Data columns (total 4 columns):\n",
      " #   Column  Non-Null Count  Dtype \n",
      "---  ------  --------------  ----- \n",
      " 0   ids     74999 non-null  int64 \n",
      " 1   date    74999 non-null  object\n",
      " 2   user    74999 non-null  object\n",
      " 3   text    74999 non-null  object\n",
      "dtypes: int64(1), object(3)\n",
      "memory usage: 2.3+ MB\n"
     ]
    }
   ],
   "source": [
    "df2.info()"
   ]
  },
  {
   "cell_type": "code",
   "execution_count": 7,
   "id": "5a6389db",
   "metadata": {},
   "outputs": [
    {
     "data": {
      "text/plain": "(224994, 74999, 299993)"
     },
     "execution_count": 7,
     "metadata": {},
     "output_type": "execute_result"
    }
   ],
   "source": [
    "df = pd.concat([df1, df2], sort=False)\n",
    "len(df1), len(df2), len(df)"
   ]
  },
  {
   "cell_type": "code",
   "execution_count": 8,
   "id": "d4bd25cd",
   "metadata": {
    "scrolled": true
   },
   "outputs": [
    {
     "name": "stdout",
     "output_type": "stream",
     "text": [
      "<class 'pandas.core.frame.DataFrame'>\n",
      "Int64Index: 299993 entries, 0 to 74998\n",
      "Data columns (total 5 columns):\n",
      " #   Column     Non-Null Count   Dtype  \n",
      "---  ------     --------------   -----  \n",
      " 0   sentiment  224994 non-null  float64\n",
      " 1   ids        299993 non-null  int64  \n",
      " 2   date       299993 non-null  object \n",
      " 3   user       299993 non-null  object \n",
      " 4   text       299993 non-null  object \n",
      "dtypes: float64(1), int64(1), object(3)\n",
      "memory usage: 13.7+ MB\n"
     ]
    }
   ],
   "source": [
    "df.info()"
   ]
  },
  {
   "cell_type": "code",
   "execution_count": 9,
   "id": "bd566db2",
   "metadata": {},
   "outputs": [],
   "source": [
    "df.to_csv('raw_df.csv', encoding='utf-8')"
   ]
  },
  {
   "cell_type": "code",
   "execution_count": 10,
   "id": "a871e82d",
   "metadata": {
    "scrolled": true
   },
   "outputs": [
    {
     "name": "stderr",
     "output_type": "stream",
     "text": [
      "C:\\ProgramData\\Anaconda3\\lib\\site-packages\\dateutil\\parser\\_parser.py:1207: UnknownTimezoneWarning: tzname PDT identified but not understood.  Pass `tzinfos` argument in order to correctly return a timezone-aware datetime.  In a future version, this will raise an exception.\n",
      "  warnings.warn(\"tzname {tzname} identified but not understood.  \"\n"
     ]
    }
   ],
   "source": [
    "import datetime as dt\n",
    "\n",
    "df[\"date\"] = pd.to_datetime(df[\"date\"])"
   ]
  },
  {
   "cell_type": "code",
   "execution_count": 11,
   "id": "06175940",
   "metadata": {},
   "outputs": [],
   "source": [
    "dayofweek = df[\"date\"].dt.dayofweek\n",
    "hour = df[\"date\"].dt.hour\n",
    "minute = df[\"date\"].dt.minute\n",
    "seconds = df[\"date\"].dt.second\n",
    "time = hour * 3600 + minute * 60 + seconds"
   ]
  },
  {
   "cell_type": "code",
   "execution_count": 12,
   "id": "9aa4f351",
   "metadata": {},
   "outputs": [
    {
     "name": "stdout",
     "output_type": "stream",
     "text": [
      "2009 2009\n",
      "4 6\n"
     ]
    }
   ],
   "source": [
    "year = df[\"date\"].dt.year\n",
    "print(year.min(), year.max())\n",
    "#all tweets from 2009, discard year information\n",
    "\n",
    "month = df[\"date\"].dt.month\n",
    "print(month.min(), month.max())"
   ]
  },
  {
   "cell_type": "code",
   "execution_count": 13,
   "id": "586025c1",
   "metadata": {},
   "outputs": [
    {
     "data": {
      "text/plain": "   sentiment         ids            user  \\\n0        1.0  1833972543       Killandra   \n1        1.0  1980318193     IMlisacowan   \n2        1.0  1994409198       yaseminx3   \n3        0.0  1824749377    no_surprises   \n4        0.0  2001199113  Rhi_ShortStack   \n\n                                                text  month  dayofweek  hour  \\\n0  @MissBianca76 Yes, talking helps a lot.. going...      5          0     1   \n1  SUNSHINE. livingg itttt. imma lie on the grass...      5          6     6   \n2           @PleaseBeMine Something for your iphone       6          0    11   \n3  @GabrielSaporta couldn't get in to the after p...      5          6     2   \n4  @bradiewebbstack awww is andy being mean again...      6          1     0   \n\n   min  \n0    8  \n1   23  \n2   52  \n3   45  \n4    8  ",
      "text/html": "<div>\n<style scoped>\n    .dataframe tbody tr th:only-of-type {\n        vertical-align: middle;\n    }\n\n    .dataframe tbody tr th {\n        vertical-align: top;\n    }\n\n    .dataframe thead th {\n        text-align: right;\n    }\n</style>\n<table border=\"1\" class=\"dataframe\">\n  <thead>\n    <tr style=\"text-align: right;\">\n      <th></th>\n      <th>sentiment</th>\n      <th>ids</th>\n      <th>user</th>\n      <th>text</th>\n      <th>month</th>\n      <th>dayofweek</th>\n      <th>hour</th>\n      <th>min</th>\n    </tr>\n  </thead>\n  <tbody>\n    <tr>\n      <th>0</th>\n      <td>1.0</td>\n      <td>1833972543</td>\n      <td>Killandra</td>\n      <td>@MissBianca76 Yes, talking helps a lot.. going...</td>\n      <td>5</td>\n      <td>0</td>\n      <td>1</td>\n      <td>8</td>\n    </tr>\n    <tr>\n      <th>1</th>\n      <td>1.0</td>\n      <td>1980318193</td>\n      <td>IMlisacowan</td>\n      <td>SUNSHINE. livingg itttt. imma lie on the grass...</td>\n      <td>5</td>\n      <td>6</td>\n      <td>6</td>\n      <td>23</td>\n    </tr>\n    <tr>\n      <th>2</th>\n      <td>1.0</td>\n      <td>1994409198</td>\n      <td>yaseminx3</td>\n      <td>@PleaseBeMine Something for your iphone</td>\n      <td>6</td>\n      <td>0</td>\n      <td>11</td>\n      <td>52</td>\n    </tr>\n    <tr>\n      <th>3</th>\n      <td>0.0</td>\n      <td>1824749377</td>\n      <td>no_surprises</td>\n      <td>@GabrielSaporta couldn't get in to the after p...</td>\n      <td>5</td>\n      <td>6</td>\n      <td>2</td>\n      <td>45</td>\n    </tr>\n    <tr>\n      <th>4</th>\n      <td>0.0</td>\n      <td>2001199113</td>\n      <td>Rhi_ShortStack</td>\n      <td>@bradiewebbstack awww is andy being mean again...</td>\n      <td>6</td>\n      <td>1</td>\n      <td>0</td>\n      <td>8</td>\n    </tr>\n  </tbody>\n</table>\n</div>"
     },
     "execution_count": 13,
     "metadata": {},
     "output_type": "execute_result"
    }
   ],
   "source": [
    "df[\"month\"] = month\n",
    "df[\"dayofweek\"] = dayofweek\n",
    "#df[\"time\"] = time\n",
    "df[\"hour\"] = hour\n",
    "df[\"min\"] = minute\n",
    "df = df.drop([\"date\"], axis=1)\n",
    "df.head()"
   ]
  },
  {
   "cell_type": "code",
   "execution_count": 14,
   "id": "58f1092e",
   "metadata": {},
   "outputs": [
    {
     "data": {
      "text/plain": "   sentiment         ids            user  \\\n0        1.0  1833972543       Killandra   \n1        1.0  1980318193     IMlisacowan   \n2        1.0  1994409198       yaseminx3   \n3        0.0  1824749377    no_surprises   \n4        0.0  2001199113  Rhi_ShortStack   \n\n                                                text  month  dayofweek  hour  \\\n0  @MissBianca76 Yes, talking helps a lot.. going...      5          0     1   \n1  SUNSHINE. livingg itttt. imma lie on the grass...      5          6     6   \n2           @PleaseBeMine Something for your iphone       6          0    11   \n3  @GabrielSaporta couldn't get in to the after p...      5          6     2   \n4  @bradiewebbstack awww is andy being mean again...      6          1     0   \n\n   min  n_tweet  \n0    8       28  \n1   23       28  \n2   52       96  \n3   45       24  \n4    8       47  ",
      "text/html": "<div>\n<style scoped>\n    .dataframe tbody tr th:only-of-type {\n        vertical-align: middle;\n    }\n\n    .dataframe tbody tr th {\n        vertical-align: top;\n    }\n\n    .dataframe thead th {\n        text-align: right;\n    }\n</style>\n<table border=\"1\" class=\"dataframe\">\n  <thead>\n    <tr style=\"text-align: right;\">\n      <th></th>\n      <th>sentiment</th>\n      <th>ids</th>\n      <th>user</th>\n      <th>text</th>\n      <th>month</th>\n      <th>dayofweek</th>\n      <th>hour</th>\n      <th>min</th>\n      <th>n_tweet</th>\n    </tr>\n  </thead>\n  <tbody>\n    <tr>\n      <th>0</th>\n      <td>1.0</td>\n      <td>1833972543</td>\n      <td>Killandra</td>\n      <td>@MissBianca76 Yes, talking helps a lot.. going...</td>\n      <td>5</td>\n      <td>0</td>\n      <td>1</td>\n      <td>8</td>\n      <td>28</td>\n    </tr>\n    <tr>\n      <th>1</th>\n      <td>1.0</td>\n      <td>1980318193</td>\n      <td>IMlisacowan</td>\n      <td>SUNSHINE. livingg itttt. imma lie on the grass...</td>\n      <td>5</td>\n      <td>6</td>\n      <td>6</td>\n      <td>23</td>\n      <td>28</td>\n    </tr>\n    <tr>\n      <th>2</th>\n      <td>1.0</td>\n      <td>1994409198</td>\n      <td>yaseminx3</td>\n      <td>@PleaseBeMine Something for your iphone</td>\n      <td>6</td>\n      <td>0</td>\n      <td>11</td>\n      <td>52</td>\n      <td>96</td>\n    </tr>\n    <tr>\n      <th>3</th>\n      <td>0.0</td>\n      <td>1824749377</td>\n      <td>no_surprises</td>\n      <td>@GabrielSaporta couldn't get in to the after p...</td>\n      <td>5</td>\n      <td>6</td>\n      <td>2</td>\n      <td>45</td>\n      <td>24</td>\n    </tr>\n    <tr>\n      <th>4</th>\n      <td>0.0</td>\n      <td>2001199113</td>\n      <td>Rhi_ShortStack</td>\n      <td>@bradiewebbstack awww is andy being mean again...</td>\n      <td>6</td>\n      <td>1</td>\n      <td>0</td>\n      <td>8</td>\n      <td>47</td>\n    </tr>\n  </tbody>\n</table>\n</div>"
     },
     "execution_count": 14,
     "metadata": {},
     "output_type": "execute_result"
    }
   ],
   "source": [
    "df[\"n_tweet\"] = df.groupby(['user']).transform('count')['text']\n",
    "df.head()"
   ]
  },
  {
   "cell_type": "code",
   "execution_count": 15,
   "id": "36836054",
   "metadata": {},
   "outputs": [],
   "source": [
    "dataset = df[\"text\"]"
   ]
  },
  {
   "cell_type": "code",
   "execution_count": 17,
   "id": "0bc7e19d",
   "metadata": {},
   "outputs": [],
   "source": [
    "POSITIVE_EMO = [\n",
    "    \":‑)\",\n",
    "    \":-))\",\n",
    "    \":-)))\",\n",
    "    \":)\",\n",
    "    \":))\",\n",
    "    \":)))\",\n",
    "    \":-]\",\n",
    "    \":]\",\n",
    "    \":-3\",\n",
    "    \":3\",\n",
    "    \":->\",\n",
    "    \":>\",\n",
    "    \"8-)\",\n",
    "    \":o)\",\n",
    "    \":-}\",\n",
    "    \":}\",\n",
    "    \":-)\",\n",
    "    \":c)\",\n",
    "    \":^)\",\n",
    "    \"=]\",\n",
    "    \"=)\",\n",
    "    \":‑D\",\n",
    "    \":D\",\n",
    "    \"8‑D\",\n",
    "    \"8D\",\n",
    "    \"X‑D\",\n",
    "    \"XD\",\n",
    "    \"=D\",\n",
    "    \"=3\",\n",
    "    \"B^D\",\n",
    "    \":-*\",\n",
    "    \":*\",\n",
    "    \":X\",\n",
    "    \";‑)\",\n",
    "    \";)\",\n",
    "    \"*-)\",\n",
    "    \"*)\",\n",
    "    \";‑]\",\n",
    "    \";]\",\n",
    "    \";^)\",\n",
    "    \":‑,\",\n",
    "    \";D\",\n",
    "    \":‑P\",\n",
    "    \":P\",\n",
    "    \"X‑P\",\n",
    "    \"XP\",\n",
    "    \":‑Þ\",\n",
    "    \":Þ\",\n",
    "    \":b\",\n",
    "    \"d:\",\n",
    "    \"=p\",\n",
    "    \">:P\",\n",
    "    \"(:\"\n",
    "]\n",
    "\n",
    "NEGATIVE_EMO = [\n",
    "    \":-(\",\n",
    "    \":‑(\",\n",
    "    \":(\",\n",
    "    \":((\",\n",
    "    \"):\",\n",
    "    \":‑c\",\n",
    "    \":c\",\n",
    "    \":‑<\",\n",
    "    \":<\",\n",
    "    \":‑[\",\n",
    "    \":[\",\n",
    "    \":-||\",\n",
    "    \">:[\",\n",
    "    \":{\",\n",
    "    \":@\",\n",
    "    \">:(\",\n",
    "    \":'‑(\",\n",
    "    \":'(\",\n",
    "    \":'‑)\",\n",
    "    \":')\",\n",
    "    \"D‑':\",\n",
    "    \"D:<\",\n",
    "    \"D:\",\n",
    "    \"D8\",\n",
    "    \"D;\",\n",
    "    \"D=\",\n",
    "    \"DX\",\n",
    "    \":‑/\",\n",
    "    \":/\",\n",
    "    \":-[.]\",\n",
    "    \">:[(\\)]\",\n",
    "    \">:/\",\n",
    "    \":[(\\)]\",\n",
    "    \"=/\",\n",
    "    \"=[(\\)]\",\n",
    "    \":L\",\n",
    "    \"=L\",\n",
    "    \":S\",\n",
    "    \":‑|\",\n",
    "    \":|\",\n",
    "    \":$\",\n",
    "    \":‑x\",\n",
    "    \":x\",\n",
    "    \":‑#\",\n",
    "    \":#\",\n",
    "    \":‑&\",\n",
    "    \":&\",\n",
    "    \"('_')\",\n",
    "    \"(/_;)\",\n",
    "    \"(T_T) (;_;)\",\n",
    "    \"(;_;\",\n",
    "    \"(;_:)\",\n",
    "    \"(;O;)\",\n",
    "    \"(:_;)\",\n",
    "    \"(ToT)\",\n",
    "    \";_;\",\n",
    "    \";-;\",\n",
    "    \";n;\",\n",
    "    \";;\",\n",
    "    \"Q.Q\",\n",
    "    \"T.T\",\n",
    "    \"QQ\",\n",
    "    \"Q_Q\"\n",
    "]"
   ]
  },
  {
   "cell_type": "code",
   "execution_count": 19,
   "id": "ce608317",
   "metadata": {},
   "outputs": [],
   "source": [
    "def find_emoticons(text):\n",
    "    pos = 0\n",
    "    neg = 0\n",
    "    for emo in POSITIVE_EMO:\n",
    "        if emo in text:\n",
    "            pos = pos + 1\n",
    "    for emo in NEGATIVE_EMO:\n",
    "        if emo in text:\n",
    "            neg = neg + 1\n",
    "            \n",
    "    return pos, neg"
   ]
  },
  {
   "cell_type": "code",
   "execution_count": 20,
   "id": "6cf9a881",
   "metadata": {},
   "outputs": [],
   "source": [
    "emo_l = [ find_emoticons(text) for text in dataset.values ]"
   ]
  },
  {
   "cell_type": "code",
   "execution_count": 21,
   "id": "4e0518c8",
   "metadata": {
    "scrolled": false
   },
   "outputs": [
    {
     "data": {
      "text/plain": "   positive_emo  negative_emo\n0             0             0\n1             0             0\n2             0             0\n3             0             0\n4             0             0",
      "text/html": "<div>\n<style scoped>\n    .dataframe tbody tr th:only-of-type {\n        vertical-align: middle;\n    }\n\n    .dataframe tbody tr th {\n        vertical-align: top;\n    }\n\n    .dataframe thead th {\n        text-align: right;\n    }\n</style>\n<table border=\"1\" class=\"dataframe\">\n  <thead>\n    <tr style=\"text-align: right;\">\n      <th></th>\n      <th>positive_emo</th>\n      <th>negative_emo</th>\n    </tr>\n  </thead>\n  <tbody>\n    <tr>\n      <th>0</th>\n      <td>0</td>\n      <td>0</td>\n    </tr>\n    <tr>\n      <th>1</th>\n      <td>0</td>\n      <td>0</td>\n    </tr>\n    <tr>\n      <th>2</th>\n      <td>0</td>\n      <td>0</td>\n    </tr>\n    <tr>\n      <th>3</th>\n      <td>0</td>\n      <td>0</td>\n    </tr>\n    <tr>\n      <th>4</th>\n      <td>0</td>\n      <td>0</td>\n    </tr>\n  </tbody>\n</table>\n</div>"
     },
     "execution_count": 21,
     "metadata": {},
     "output_type": "execute_result"
    }
   ],
   "source": [
    "emo_df = pd.DataFrame(emo_l, columns=[\"positive_emo\", \"negative_emo\"])\n",
    "emo_df.head()"
   ]
  },
  {
   "cell_type": "code",
   "execution_count": 22,
   "id": "5e01aeb2",
   "metadata": {
    "scrolled": false
   },
   "outputs": [
    {
     "name": "stdout",
     "output_type": "stream",
     "text": [
      "<class 'pandas.core.frame.DataFrame'>\n",
      "RangeIndex: 299993 entries, 0 to 299992\n",
      "Data columns (total 2 columns):\n",
      " #   Column        Non-Null Count   Dtype\n",
      "---  ------        --------------   -----\n",
      " 0   positive_emo  299993 non-null  int64\n",
      " 1   negative_emo  299993 non-null  int64\n",
      "dtypes: int64(2)\n",
      "memory usage: 4.6 MB\n"
     ]
    },
    {
     "data": {
      "text/plain": "positive_emo     5306\nnegative_emo    16483\ndtype: int64"
     },
     "execution_count": 22,
     "metadata": {},
     "output_type": "execute_result"
    }
   ],
   "source": [
    "emo_df.info()\n",
    "emo_df.max()\n",
    "emo_df.sum()"
   ]
  },
  {
   "cell_type": "code",
   "execution_count": 23,
   "id": "7545e6d4",
   "metadata": {
    "scrolled": false
   },
   "outputs": [
    {
     "data": {
      "text/plain": "   sentiment         ids            user  \\\n0        1.0  1833972543       Killandra   \n1        1.0  1980318193     IMlisacowan   \n2        1.0  1994409198       yaseminx3   \n3        0.0  1824749377    no_surprises   \n4        0.0  2001199113  Rhi_ShortStack   \n\n                                                text  month  dayofweek  hour  \\\n0  @MissBianca76 Yes, talking helps a lot.. going...      5          0     1   \n1  SUNSHINE. livingg itttt. imma lie on the grass...      5          6     6   \n2           @PleaseBeMine Something for your iphone       6          0    11   \n3  @GabrielSaporta couldn't get in to the after p...      5          6     2   \n4  @bradiewebbstack awww is andy being mean again...      6          1     0   \n\n   min  n_tweet  positive_emo  negative_emo  \n0    8       28             0             0  \n1   23       28             0             0  \n2   52       96             0             0  \n3   45       24             0             0  \n4    8       47             0             0  ",
      "text/html": "<div>\n<style scoped>\n    .dataframe tbody tr th:only-of-type {\n        vertical-align: middle;\n    }\n\n    .dataframe tbody tr th {\n        vertical-align: top;\n    }\n\n    .dataframe thead th {\n        text-align: right;\n    }\n</style>\n<table border=\"1\" class=\"dataframe\">\n  <thead>\n    <tr style=\"text-align: right;\">\n      <th></th>\n      <th>sentiment</th>\n      <th>ids</th>\n      <th>user</th>\n      <th>text</th>\n      <th>month</th>\n      <th>dayofweek</th>\n      <th>hour</th>\n      <th>min</th>\n      <th>n_tweet</th>\n      <th>positive_emo</th>\n      <th>negative_emo</th>\n    </tr>\n  </thead>\n  <tbody>\n    <tr>\n      <th>0</th>\n      <td>1.0</td>\n      <td>1833972543</td>\n      <td>Killandra</td>\n      <td>@MissBianca76 Yes, talking helps a lot.. going...</td>\n      <td>5</td>\n      <td>0</td>\n      <td>1</td>\n      <td>8</td>\n      <td>28</td>\n      <td>0</td>\n      <td>0</td>\n    </tr>\n    <tr>\n      <th>1</th>\n      <td>1.0</td>\n      <td>1980318193</td>\n      <td>IMlisacowan</td>\n      <td>SUNSHINE. livingg itttt. imma lie on the grass...</td>\n      <td>5</td>\n      <td>6</td>\n      <td>6</td>\n      <td>23</td>\n      <td>28</td>\n      <td>0</td>\n      <td>0</td>\n    </tr>\n    <tr>\n      <th>2</th>\n      <td>1.0</td>\n      <td>1994409198</td>\n      <td>yaseminx3</td>\n      <td>@PleaseBeMine Something for your iphone</td>\n      <td>6</td>\n      <td>0</td>\n      <td>11</td>\n      <td>52</td>\n      <td>96</td>\n      <td>0</td>\n      <td>0</td>\n    </tr>\n    <tr>\n      <th>3</th>\n      <td>0.0</td>\n      <td>1824749377</td>\n      <td>no_surprises</td>\n      <td>@GabrielSaporta couldn't get in to the after p...</td>\n      <td>5</td>\n      <td>6</td>\n      <td>2</td>\n      <td>45</td>\n      <td>24</td>\n      <td>0</td>\n      <td>0</td>\n    </tr>\n    <tr>\n      <th>4</th>\n      <td>0.0</td>\n      <td>2001199113</td>\n      <td>Rhi_ShortStack</td>\n      <td>@bradiewebbstack awww is andy being mean again...</td>\n      <td>6</td>\n      <td>1</td>\n      <td>0</td>\n      <td>8</td>\n      <td>47</td>\n      <td>0</td>\n      <td>0</td>\n    </tr>\n  </tbody>\n</table>\n</div>"
     },
     "execution_count": 23,
     "metadata": {},
     "output_type": "execute_result"
    }
   ],
   "source": [
    "df[\"positive_emo\"] = emo_df[\"positive_emo\"]\n",
    "df[\"negative_emo\"] = emo_df[\"negative_emo\"]\n",
    "df.head()"
   ]
  },
  {
   "cell_type": "code",
   "execution_count": 24,
   "id": "efc66901",
   "metadata": {
    "scrolled": false
   },
   "outputs": [
    {
     "name": "stdout",
     "output_type": "stream",
     "text": [
      "<class 'pandas.core.frame.DataFrame'>\n",
      "Int64Index: 299993 entries, 0 to 74998\n",
      "Data columns (total 11 columns):\n",
      " #   Column        Non-Null Count   Dtype  \n",
      "---  ------        --------------   -----  \n",
      " 0   sentiment     224994 non-null  float64\n",
      " 1   ids           299993 non-null  int64  \n",
      " 2   user          299993 non-null  object \n",
      " 3   text          299993 non-null  object \n",
      " 4   month         299993 non-null  int64  \n",
      " 5   dayofweek     299993 non-null  int64  \n",
      " 6   hour          299993 non-null  int64  \n",
      " 7   min           299993 non-null  int64  \n",
      " 8   n_tweet       299993 non-null  int64  \n",
      " 9   positive_emo  299993 non-null  int64  \n",
      " 10  negative_emo  299993 non-null  int64  \n",
      "dtypes: float64(1), int64(8), object(2)\n",
      "memory usage: 27.5+ MB\n"
     ]
    }
   ],
   "source": [
    "df.info()"
   ]
  },
  {
   "cell_type": "code",
   "execution_count": 25,
   "id": "e5a4c505",
   "metadata": {},
   "outputs": [],
   "source": [
    "tweet_len = [ len(text) for text in dataset ]\n",
    "len_df = pd.DataFrame(tweet_len, columns=[\"tweet_len_before\"])\n",
    "df[\"tweet_len_before\"] = len_df"
   ]
  },
  {
   "cell_type": "code",
   "execution_count": 31,
   "id": "ce5b40b6",
   "metadata": {},
   "outputs": [],
   "source": [
    "import html\n",
    "\n",
    "dataset = dataset.apply(lambda x: html.unescape(x)) #HTML decoding"
   ]
  },
  {
   "cell_type": "code",
   "execution_count": 32,
   "id": "75ccfeff",
   "metadata": {
    "scrolled": true
   },
   "outputs": [
    {
     "data": {
      "text/plain": "0     yes talking helps a lot going through it ther...\n1    sunshine living it ima lie on the gras listeni...\n2                           something for your iphone \n3                   couldnt get in to the after party \n4        aw is andy being mean again now i want macas \nName: text, dtype: object"
     },
     "execution_count": 32,
     "metadata": {},
     "output_type": "execute_result"
    }
   ],
   "source": [
    "import re\n",
    "\n",
    "dataset = dataset.apply(lambda x: re.sub(r'@[A-Za-z0-9]+', '', x)) #remove tags\n",
    "dataset = dataset.apply(lambda x: re.sub(r'https?://[A-Za-z0-9./]+', '', x)) #remove links\n",
    "dataset = dataset.apply(lambda x: re.sub(r'www?://[A-Za-z0-9./]+', '', x)) #remove url\n",
    "dataset = dataset.apply(lambda x: re.sub('[0-9]+', '', x)) #remove numbers\n",
    "dataset = dataset.apply(lambda x: re.sub(' +', ' ', x)) #remove extra spaces\n",
    "dataset = dataset.apply(lambda x: re.sub(r'[^\\w\\s]','',x)) #remove puntuaction\n",
    "dataset = dataset.apply(lambda x: re.sub(r'([a-z])\\1+', r'\\1', x)) #remove repeating characters\n",
    "dataset = dataset.apply(lambda x: x.lower()) #remove numbers\n",
    "\n",
    "dataset.head()"
   ]
  },
  {
   "cell_type": "code",
   "execution_count": 33,
   "id": "ae5f31f3",
   "metadata": {
    "scrolled": true
   },
   "outputs": [
    {
     "data": {
      "text/plain": "0    ye talk help a lot go through it there no judg...\n1    sunshin live it ima lie on the gra listen to o...\n2                                someth for your iphon\n3                    couldnt get in to the after parti\n4             aw is andi be mean again now i want maca\nName: text, dtype: object"
     },
     "execution_count": 33,
     "metadata": {},
     "output_type": "execute_result"
    }
   ],
   "source": [
    "from nltk.tokenize import TreebankWordTokenizer\n",
    "#from nltk.corpus import stopwords\n",
    "from nltk.stem import PorterStemmer\n",
    "\n",
    "token = TreebankWordTokenizer()\n",
    "porter = PorterStemmer()\n",
    "\n",
    "negations = {\"isn't\":\"is not\", \"aren't\":\"are not\", \"wasn't\":\"was not\", \"weren't\":\"were not\",\n",
    "             \"haven't\":\"have not\",\"hasn't\":\"has not\",\"hadn't\":\"had not\",\"won't\":\"will not\",\n",
    "             \"wouldn't\":\"would not\", \"don't\":\"do not\", \"doesn't\":\"does not\",\"didn't\":\"did not\",\n",
    "             \"can't\":\"can not\",\"couldn't\":\"could not\",\"shouldn't\":\"should not\",\"mightn't\":\"might not\",\n",
    "             \"mustn't\":\"must not\"\n",
    "            }\n",
    "\n",
    "def tokenize_stemming(text):\n",
    "        #expand negations\n",
    "        for a, b in negations.items():\n",
    "            if a in text:\n",
    "                text = text.replace(a,b)\n",
    "            \n",
    "        #tokenize and stemming    \n",
    "        word_list = token.tokenize(text)\n",
    "        \n",
    "        #filtered_words = [ word for word in word_list if word not in stopwords.words('english') ]\n",
    "\n",
    "        stem_sentence = [ porter.stem(word) for word in word_list ]\n",
    "        \n",
    "        text = \" \".join(stem_sentence).strip()\n",
    "        \n",
    "        return text\n",
    "    \n",
    "        \n",
    "dataset = dataset.apply(lambda x: tokenize_stemming(x))\n",
    "\n",
    "dataset.head()"
   ]
  },
  {
   "cell_type": "code",
   "execution_count": 34,
   "id": "1708150d",
   "metadata": {},
   "outputs": [],
   "source": [
    "tweet_len = [ len(text) for text in dataset ]\n",
    "len_df = pd.DataFrame(tweet_len, columns=[\"tweet_len_after\"])\n",
    "df[\"tweet_len_after\"] = len_df"
   ]
  },
  {
   "cell_type": "code",
   "execution_count": 35,
   "id": "d690a018",
   "metadata": {
    "scrolled": false
   },
   "outputs": [
    {
     "data": {
      "text/plain": "   sentiment         ids            user  \\\n0        1.0  1833972543       Killandra   \n1        1.0  1980318193     IMlisacowan   \n2        1.0  1994409198       yaseminx3   \n3        0.0  1824749377    no_surprises   \n4        0.0  2001199113  Rhi_ShortStack   \n\n                                                text  month  dayofweek  hour  \\\n0  ye talk help a lot go through it there no judg...      5          0     1   \n1  sunshin live it ima lie on the gra listen to o...      5          6     6   \n2                              someth for your iphon      6          0    11   \n3                  couldnt get in to the after parti      5          6     2   \n4           aw is andi be mean again now i want maca      6          1     0   \n\n   min  n_tweet  positive_emo  negative_emo  tweet_len_before  positive_word  \\\n0    8       28             0             0               139              0   \n1   23       28             0             0                88              1   \n2   52       96             0             0                40              0   \n3   45       24             0             0                52              0   \n4    8       47             0             0                68              0   \n\n   negative_word  tweet_len_after  \n0              0               93  \n1              1               68  \n2              0               21  \n3              0               33  \n4              0               40  ",
      "text/html": "<div>\n<style scoped>\n    .dataframe tbody tr th:only-of-type {\n        vertical-align: middle;\n    }\n\n    .dataframe tbody tr th {\n        vertical-align: top;\n    }\n\n    .dataframe thead th {\n        text-align: right;\n    }\n</style>\n<table border=\"1\" class=\"dataframe\">\n  <thead>\n    <tr style=\"text-align: right;\">\n      <th></th>\n      <th>sentiment</th>\n      <th>ids</th>\n      <th>user</th>\n      <th>text</th>\n      <th>month</th>\n      <th>dayofweek</th>\n      <th>hour</th>\n      <th>min</th>\n      <th>n_tweet</th>\n      <th>positive_emo</th>\n      <th>negative_emo</th>\n      <th>tweet_len_before</th>\n      <th>positive_word</th>\n      <th>negative_word</th>\n      <th>tweet_len_after</th>\n    </tr>\n  </thead>\n  <tbody>\n    <tr>\n      <th>0</th>\n      <td>1.0</td>\n      <td>1833972543</td>\n      <td>Killandra</td>\n      <td>ye talk help a lot go through it there no judg...</td>\n      <td>5</td>\n      <td>0</td>\n      <td>1</td>\n      <td>8</td>\n      <td>28</td>\n      <td>0</td>\n      <td>0</td>\n      <td>139</td>\n      <td>0</td>\n      <td>0</td>\n      <td>93</td>\n    </tr>\n    <tr>\n      <th>1</th>\n      <td>1.0</td>\n      <td>1980318193</td>\n      <td>IMlisacowan</td>\n      <td>sunshin live it ima lie on the gra listen to o...</td>\n      <td>5</td>\n      <td>6</td>\n      <td>6</td>\n      <td>23</td>\n      <td>28</td>\n      <td>0</td>\n      <td>0</td>\n      <td>88</td>\n      <td>1</td>\n      <td>1</td>\n      <td>68</td>\n    </tr>\n    <tr>\n      <th>2</th>\n      <td>1.0</td>\n      <td>1994409198</td>\n      <td>yaseminx3</td>\n      <td>someth for your iphon</td>\n      <td>6</td>\n      <td>0</td>\n      <td>11</td>\n      <td>52</td>\n      <td>96</td>\n      <td>0</td>\n      <td>0</td>\n      <td>40</td>\n      <td>0</td>\n      <td>0</td>\n      <td>21</td>\n    </tr>\n    <tr>\n      <th>3</th>\n      <td>0.0</td>\n      <td>1824749377</td>\n      <td>no_surprises</td>\n      <td>couldnt get in to the after parti</td>\n      <td>5</td>\n      <td>6</td>\n      <td>2</td>\n      <td>45</td>\n      <td>24</td>\n      <td>0</td>\n      <td>0</td>\n      <td>52</td>\n      <td>0</td>\n      <td>0</td>\n      <td>33</td>\n    </tr>\n    <tr>\n      <th>4</th>\n      <td>0.0</td>\n      <td>2001199113</td>\n      <td>Rhi_ShortStack</td>\n      <td>aw is andi be mean again now i want maca</td>\n      <td>6</td>\n      <td>1</td>\n      <td>0</td>\n      <td>8</td>\n      <td>47</td>\n      <td>0</td>\n      <td>0</td>\n      <td>68</td>\n      <td>0</td>\n      <td>0</td>\n      <td>40</td>\n    </tr>\n  </tbody>\n</table>\n</div>"
     },
     "execution_count": 35,
     "metadata": {},
     "output_type": "execute_result"
    }
   ],
   "source": [
    "df[\"text\"] = dataset\n",
    "df.head()"
   ]
  },
  {
   "cell_type": "code",
   "execution_count": 36,
   "id": "2d92682d",
   "metadata": {},
   "outputs": [],
   "source": [
    "df.loc[df[\"text\"] == \"\", [\"text\"]] = \".\""
   ]
  },
  {
   "cell_type": "code",
   "execution_count": 37,
   "id": "b6b04f95",
   "metadata": {
    "pycharm": {
     "name": "#%%\n"
    }
   },
   "outputs": [],
   "source": [
    "df.to_csv('clean_df.csv', encoding='utf-8')"
   ]
  }
 ],
 "metadata": {
  "kernelspec": {
   "display_name": "Python 3 (ipykernel)",
   "language": "python",
   "name": "python3"
  },
  "language_info": {
   "codemirror_mode": {
    "name": "ipython",
    "version": 3
   },
   "file_extension": ".py",
   "mimetype": "text/x-python",
   "name": "python",
   "nbconvert_exporter": "python",
   "pygments_lexer": "ipython3",
   "version": "3.8.10"
  }
 },
 "nbformat": 4,
 "nbformat_minor": 5
}